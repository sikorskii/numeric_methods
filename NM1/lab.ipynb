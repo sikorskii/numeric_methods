{
 "cells": [
  {
   "cell_type": "code",
   "execution_count": 1,
   "id": "851371ef",
   "metadata": {},
   "outputs": [],
   "source": [
    "import numpy as np\n",
    "np.set_printoptions(precision=3, suppress=True)"
   ]
  },
  {
   "cell_type": "code",
   "execution_count": 2,
   "id": "69565d45",
   "metadata": {},
   "outputs": [],
   "source": [
    "matrix_array = np.loadtxt('matrix_lu')\n",
    "shape = matrix_array.shape"
   ]
  },
  {
   "cell_type": "code",
   "execution_count": 3,
   "outputs": [
    {
     "name": "stdout",
     "output_type": "stream",
     "text": [
      "[[  -7.    3.   -4.    7. -126.]\n",
      " [   8.   -1.   -7.    6.   29.]\n",
      " [   9.    9.    3.   -6.   27.]\n",
      " [  -7.   -9.   -8.   -5.   34.]]\n"
     ]
    }
   ],
   "source": [
    "print(matrix_array)"
   ],
   "metadata": {
    "collapsed": false
   }
  },
  {
   "cell_type": "markdown",
   "source": [
    "## Метод LU-разложения"
   ],
   "metadata": {
    "collapsed": false
   }
  },
  {
   "cell_type": "code",
   "execution_count": 4,
   "outputs": [],
   "source": [
    "def decompose_column(matrix, column):\n",
    "    l_matrix_column = np.zeros((shape[0], 1))\n",
    "    for row in range (column + 1, shape[0]):\n",
    "        l_matrix_value = (matrix[row, column] / matrix[column, column])\n",
    "        l_matrix_column[row, 0] = l_matrix_value\n",
    "        matrix[row, :] += matrix[column, :] * (-l_matrix_value)\n",
    "        #log_step(column, matrix, row)\n",
    "    return l_matrix_column\n",
    "\n",
    "def decompose_column_lu(matrix, column):\n",
    "    l_matrix_column = np.zeros(shape[0])\n",
    "    for row in range (column + 1, shape[0]):\n",
    "        l_matrix_value = (matrix[row, column] / matrix[column, column])\n",
    "        l_matrix_column[row] = l_matrix_value\n",
    "        matrix[row, column:] += matrix[column, column:] * (-l_matrix_value)\n",
    "        #log_step(column, matrix, row)\n",
    "    matrix[:, column] += l_matrix_column\n",
    "\n",
    "\n",
    "def log_step(column, matrix, row):\n",
    "    print(str(row) + \" \" + str(column))\n",
    "    print(matrix)\n",
    "    print('\\n')\n",
    "\n",
    "\n",
    "def get_matrix_with_non_zero_leading_element(matrix, column):\n",
    "    for row in range (column, shape[0]):\n",
    "        if matrix[row, column] != 0:\n",
    "            matrix[[column, row]] = matrix[[row, column]]\n",
    "            return column, row\n",
    "\n",
    "def decompose_matrix_with_gauss(matrix):\n",
    "    print(\"original memory\")\n",
    "    print(matrix.nbytes)\n",
    "    b_column_to_swap = np.copy(matrix[:, shape[1] - 1].reshape(shape[0], 1))\n",
    "\n",
    "    for column in range(0, shape[1] - 1):\n",
    "        if matrix[column, column] == 0:\n",
    "            row_swap_1, row_swap_2 = get_matrix_with_non_zero_leading_element(matrix, column)\n",
    "\n",
    "            b_column_to_swap[[row_swap_1, row_swap_2]] = b_column_to_swap[[row_swap_2, row_swap_1]]\n",
    "\n",
    "        decompose_column_lu(matrix, column)\n",
    "\n",
    "    print(\"u memory\")\n",
    "    print(matrix.nbytes)\n",
    "    return matrix, b_column_to_swap\n",
    "\n",
    "def solve_lz_equation(matrix):\n",
    "    answer = []\n",
    "    for row in range (0, shape[0]):\n",
    "        sum_of_polynomial = 0\n",
    "        if row != 0:\n",
    "            for column in range(0, row):\n",
    "                sum_of_polynomial += matrix[row, column] * answer[column]\n",
    "\n",
    "        x = matrix[row, shape[1] - 1] - sum_of_polynomial\n",
    "        answer.append(x)\n",
    "\n",
    "    return np.array(answer)\n",
    "\n",
    "def solve_ux_equation(matrix):\n",
    "    answer = []\n",
    "    for row in range (shape[0] - 1, -1, -1):\n",
    "        sum_of_polynomial = 0\n",
    "        if row < shape[0]:\n",
    "            for column in range (shape[0] - 1, row, -1):\n",
    "                sum_of_polynomial +=  matrix[row, column] * answer[shape[0] - column - 1]\n",
    "\n",
    "        x = (matrix[row, shape[1] - 1] - sum_of_polynomial) / matrix[row, row]\n",
    "        answer.append(x)\n",
    "\n",
    "    answer.reverse()\n",
    "    return np.array(answer)\n",
    "\n",
    "\n",
    "def solve_with_lu(matrix):\n",
    "    u_matrix, swapped_b_column = decompose_matrix_with_gauss(matrix)\n",
    "    log_matrix(u_matrix)\n",
    "    #lz_matrix = np.hstack((l_matrix, swapped_b_column))\n",
    "    u_matrix = np.delete(u_matrix, -1, axis=1)\n",
    "    u_matrix = np.hstack((u_matrix, swapped_b_column))\n",
    "    z_answer = solve_lz_equation(u_matrix)\n",
    "    z_column = np.array(z_answer, dtype=float).reshape((shape[0], 1))\n",
    "    u_matrix = np.delete(u_matrix, -1, axis=1)\n",
    "    determinant = np.diagonal(u_matrix).prod()\n",
    "    u_matrix = np.hstack((u_matrix, z_column))\n",
    "    #print(lz_matrix)\n",
    "    print(\"determinant\")\n",
    "    print(determinant)\n",
    "    return solve_ux_equation(u_matrix)\n",
    "\n",
    "def inverse_matrix(matrix):\n",
    "    slau_matrix = np.delete(matrix, -1, axis=1)\n",
    "    slau_matrix = np.hstack((slau_matrix, np.identity(shape[0])))\n",
    "\n",
    "    for column in range(0, shape[1] - 1):\n",
    "        if slau_matrix[column, column] == 0:\n",
    "            get_matrix_with_non_zero_leading_element(slau_matrix, column)\n",
    "\n",
    "        decompose_column(slau_matrix, column)\n",
    "        slau_matrix[column, :] /= slau_matrix[column, column]\n",
    "\n",
    "    for column in range(shape[1] - 1, -1, -1):\n",
    "        decompose_column_backwards(slau_matrix, column - 1)\n",
    "\n",
    "    slau_shape = slau_matrix.shape\n",
    "\n",
    "    return slau_matrix[:, int(slau_shape[1] / 2) : int(slau_shape[1])]\n",
    "\n",
    "def decompose_column_backwards(matrix, column):\n",
    "    for row in range(column - 1, -1, -1):\n",
    "        l_matrix_value = (matrix[row, column] / matrix[column, column])\n",
    "        matrix[row, :] += matrix[column, :] * (-l_matrix_value)\n",
    "\n",
    "\n",
    "def log_matrix(u_matrix):\n",
    "    print(\"u matrix\")\n",
    "    print(u_matrix)\n",
    "    print('\\n')"
   ],
   "metadata": {
    "collapsed": false
   }
  },
  {
   "cell_type": "code",
   "execution_count": 5,
   "outputs": [
    {
     "name": "stdout",
     "output_type": "stream",
     "text": [
      "original memory\n",
      "160\n",
      "u memory\n",
      "160\n",
      "u matrix\n",
      "[[  -7.       3.      -4.       7.    -126.   ]\n",
      " [  -1.143    2.429  -11.571   14.    -115.   ]\n",
      " [  -1.286    5.294   59.118  -71.118  473.824]\n",
      " [   1.      -4.941   -1.035  -16.418   82.09 ]]\n",
      "\n",
      "\n",
      "determinant\n",
      "16499.999999999996\n",
      "[ 8. -9.  2. -5.]\n",
      "inversed matrix\n",
      "[[-0.055  0.055  0.006 -0.018]\n",
      " [ 0.086 -0.016  0.083  0.002]\n",
      " [-0.06  -0.05  -0.059 -0.073]\n",
      " [ 0.017  0.033 -0.063 -0.061]]\n"
     ]
    }
   ],
   "source": [
    "matrix_array = np.loadtxt('matrix_lu')\n",
    "print(solve_with_lu(matrix_array))\n",
    "matrix_array = np.loadtxt('matrix_lu')\n",
    "inversed = inverse_matrix(matrix_array)\n",
    "print('inversed matrix')\n",
    "print(inversed)"
   ],
   "metadata": {
    "collapsed": false
   }
  },
  {
   "cell_type": "markdown",
   "source": [
    "## Метод прогонки"
   ],
   "metadata": {
    "collapsed": false
   }
  },
  {
   "cell_type": "code",
   "execution_count": 6,
   "outputs": [
    {
     "name": "stdout",
     "output_type": "stream",
     "text": [
      "[[  16.   -9.    0.    0.    0.  -27.]\n",
      " [   8.  -13.   -5.    0.    0.  -84.]\n",
      " [   0.   -3.  -21.    9.    0. -225.]\n",
      " [   0.    0.   -9.   16.   -5.  -89.]\n",
      " [   0.    0.    0.    1.   -9.   69.]]\n"
     ]
    }
   ],
   "source": [
    "matrix_array = np.loadtxt('matrix_sweep')\n",
    "print(matrix_array)\n",
    "shape = matrix_array.shape"
   ],
   "metadata": {
    "collapsed": false
   }
  },
  {
   "cell_type": "code",
   "execution_count": 7,
   "outputs": [],
   "source": [
    "def solve_sweep(matrix):\n",
    "    if not check_tri_diagonal_dominance(matrix):\n",
    "        return\n",
    "\n",
    "    p = []\n",
    "    q = []\n",
    "\n",
    "    p.append(-c_i(matrix, 0) / b_i(matrix, 0))\n",
    "    q.append(d_i(matrix, 0) / b_i(matrix, 0))\n",
    "\n",
    "    for i in range(1, shape[0]):\n",
    "        p.append(p_i(matrix, i, p))\n",
    "        q.append(q_i(matrix, i, p ,q))\n",
    "\n",
    "    answer = [0] * shape[0]\n",
    "    answer[-1] = q[-1]\n",
    "\n",
    "    for i in range(shape[0] - 2, -1, -1):\n",
    "        answer[i] = x_i(i, p, q, answer)\n",
    "\n",
    "    print(\"p coefficients\")\n",
    "    print(p)\n",
    "    print(\"q coefficients\")\n",
    "    print(q)\n",
    "    return np.array(answer)\n",
    "\n",
    "def check_tri_diagonal_dominance(matrix):\n",
    "    for i in range(shape[0]):\n",
    "        if abs(b_i(matrix, i)) < (abs(a_i(matrix, i)) + abs(c_i(matrix, i))):\n",
    "            return False\n",
    "    return True\n",
    "\n",
    "def p_i(matrix, i, p):\n",
    "    return -c_i(matrix, i) / (b_i(matrix, i) + a_i(matrix, i) * p[i - 1])\n",
    "\n",
    "def q_i(matrix, i, p ,q):\n",
    "    return (d_i(matrix, i) - a_i(matrix, i) * q[i - 1]) / (b_i(matrix, i) + a_i(matrix, i) * p[i - 1])\n",
    "\n",
    "def x_i(i, p, q, answer):\n",
    "    return p[i] * answer[i + 1] + q[i]\n",
    "\n",
    "def a_i(matrix, i):\n",
    "    if i == 0:\n",
    "        return 0\n",
    "    return matrix[i, i - 1]\n",
    "\n",
    "def b_i(matrix, i):\n",
    "    return matrix[i, i]\n",
    "\n",
    "def c_i(matrix, i):\n",
    "    if i == (shape[0] - 1):\n",
    "        return 0\n",
    "    return matrix[i, i + 1]\n",
    "\n",
    "def d_i(matrix, i):\n",
    "    return matrix[i, -1]"
   ],
   "metadata": {
    "collapsed": false
   }
  },
  {
   "cell_type": "code",
   "execution_count": 8,
   "outputs": [
    {
     "name": "stdout",
     "output_type": "stream",
     "text": [
      "p coefficients\n",
      "[0.5625, -0.5882352941176471, 0.46788990825688076, 0.424124513618677, -0.0]\n",
      "q coefficients\n",
      "[-1.6875, 8.294117647058824, 10.403669724770642, 0.39299610894941606, -8.0]\n",
      "[ 0.  3.  9. -3. -8.]\n"
     ]
    }
   ],
   "source": [
    "print(solve_sweep(matrix_array))"
   ],
   "metadata": {
    "collapsed": false
   }
  },
  {
   "cell_type": "markdown",
   "source": [
    "## Метод итераций"
   ],
   "metadata": {
    "collapsed": false
   }
  },
  {
   "cell_type": "code",
   "execution_count": 9,
   "outputs": [
    {
     "name": "stdout",
     "output_type": "stream",
     "text": [
      "[[ 10.   0.   2.   4. 110.]\n",
      " [  2.  16.  -3.   8. 128.]\n",
      " [  1.   5.  11.  -4. 102.]\n",
      " [  8.   1.   6. -17.  81.]]\n"
     ]
    }
   ],
   "source": [
    "matrix_array = np.loadtxt('matrix_iterations')\n",
    "print(matrix_array)\n",
    "shape = matrix_array.shape"
   ],
   "metadata": {
    "collapsed": false
   }
  },
  {
   "cell_type": "code",
   "execution_count": 10,
   "outputs": [],
   "source": [
    "def check_diagonal_dominance(matrix):\n",
    "    shape = matrix.shape\n",
    "    for row in range (shape[0]):\n",
    "        if not (row_dominance(matrix, row) or column_dominance(matrix, row)):\n",
    "            return False\n",
    "\n",
    "    return True\n",
    "\n",
    "def row_dominance(matrix, row):\n",
    "    row_sum = np.sum(np.abs(matrix), axis=1)\n",
    "    return np.abs(matrix[row, row]) >= (row_sum[row] - np.abs(matrix[row, -1]) - np.abs(matrix[row, row]))\n",
    "\n",
    "def column_dominance(matrix, column):\n",
    "    column_sum = np.sum(np.abs(matrix), axis=0)\n",
    "    return abs(matrix[column, column]) >= column_sum[column] - abs(matrix[column, column])\n",
    "\n",
    "\n",
    "def solve_iterations(matrix, eps):\n",
    "    if not check_diagonal_dominance(matrix):\n",
    "        return\n",
    "    matrix = get_non_zero_elements_at_diagonal(matrix)\n",
    "\n",
    "    beta = get_betas_column(matrix)\n",
    "    alpha = get_alphas_column(matrix)\n",
    "\n",
    "    x = np.copy(beta)\n",
    "    iterations = 0\n",
    "    while True:\n",
    "        iterations += 1\n",
    "        x_i = beta + np.matmul(alpha, x)\n",
    "        if is_accuracy_achieved(x_i, x, eps):\n",
    "            return x_i, iterations\n",
    "        x = x_i\n",
    "\n",
    "def is_accuracy_achieved(x, x_prev, eps):\n",
    "    return np.max(np.abs(x - x_prev)) <= eps\n",
    "\n",
    "def get_betas_column(matrix):\n",
    "    beta = np.zeros((shape[0], 1))\n",
    "    for i in range(0, shape[0]):\n",
    "        beta[i, :] = matrix[i, -1] / matrix[i, i]\n",
    "\n",
    "    return beta\n",
    "\n",
    "def get_alphas_column(matrix):\n",
    "    alpha = np.zeros((shape[0], shape[0]))\n",
    "\n",
    "    for i in range(0, shape[0]):\n",
    "        for j in range(0, shape[0]):\n",
    "            if i == j:\n",
    "                continue\n",
    "            else:\n",
    "                alpha[i, j] = -matrix[i, j] / matrix[i, i]\n",
    "\n",
    "    return alpha\n",
    "\n",
    "def get_non_zero_elements_at_diagonal(matrix):\n",
    "    for column in range (0, shape[0]):\n",
    "        if matrix[column, column] == 0:\n",
    "            set_non_zero_element_for_column(matrix, column)\n",
    "\n",
    "    return matrix\n",
    "\n",
    "def set_non_zero_element_for_column(matrix, column):\n",
    "    for row in range (0, shape[0]):\n",
    "        if matrix[row, column] != 0:\n",
    "            matrix[[column, row]] = matrix[[row, column]]\n",
    "            return"
   ],
   "metadata": {
    "collapsed": false
   }
  },
  {
   "cell_type": "code",
   "execution_count": 11,
   "outputs": [
    {
     "name": "stdout",
     "output_type": "stream",
     "text": [
      "answer and iterations\n",
      "(array([[9.],\n",
      "       [7.],\n",
      "       [6.],\n",
      "       [2.]]), 22)\n"
     ]
    }
   ],
   "source": [
    "print(\"answer and iterations\")\n",
    "print(solve_iterations(matrix_array, 0.00001))"
   ],
   "metadata": {
    "collapsed": false
   }
  },
  {
   "cell_type": "markdown",
   "source": [
    "## Метод Зейделя"
   ],
   "metadata": {
    "collapsed": false
   }
  },
  {
   "cell_type": "code",
   "execution_count": 12,
   "outputs": [],
   "source": [
    "def solve_zeidel(matrix, eps):\n",
    "    if not check_diagonal_dominance(matrix):\n",
    "        return\n",
    "\n",
    "    matrix = get_non_zero_elements_at_diagonal(matrix)\n",
    "\n",
    "    beta = get_betas_column(matrix)\n",
    "    alpha = get_alphas_column(matrix)\n",
    "\n",
    "    x = beta\n",
    "    iterations = 0\n",
    "\n",
    "    while True:\n",
    "        iterations += 1\n",
    "        x_n = np.copy(x)\n",
    "        for i in range (shape[0]):\n",
    "             x_n[i] = beta[i] + sum(alpha[i, j] * x_n[j] for j in range(i)) + sum(alpha[i, j] * x[j] for j in range(i, shape[0]))\n",
    "\n",
    "        if is_accuracy_achieved(x_n, x, eps):\n",
    "            return x_n, iterations\n",
    "\n",
    "        x = x_n\n",
    "\n"
   ],
   "metadata": {
    "collapsed": false
   }
  },
  {
   "cell_type": "code",
   "execution_count": 13,
   "outputs": [
    {
     "name": "stdout",
     "output_type": "stream",
     "text": [
      "answer and iterations\n",
      "(array([[9.],\n",
      "       [7.],\n",
      "       [6.],\n",
      "       [2.]]), 12)\n"
     ]
    }
   ],
   "source": [
    "print(\"answer and iterations\")\n",
    "print(solve_zeidel(matrix_array, 0.00001))"
   ],
   "metadata": {
    "collapsed": false
   }
  },
  {
   "cell_type": "markdown",
   "source": [
    "## Метод вращений"
   ],
   "metadata": {
    "collapsed": false
   }
  },
  {
   "cell_type": "code",
   "execution_count": 14,
   "outputs": [
    {
     "name": "stdout",
     "output_type": "stream",
     "text": [
      "[[4. 2. 1.]\n",
      " [2. 5. 3.]\n",
      " [1. 3. 6.]]\n"
     ]
    }
   ],
   "source": [
    "matrix_array = np.loadtxt('matrix_rotations')\n",
    "print(matrix_array)\n",
    "shape = matrix_array.shape"
   ],
   "metadata": {
    "collapsed": false
   }
  },
  {
   "cell_type": "code",
   "execution_count": 15,
   "outputs": [],
   "source": [
    "def solve_rotations(matrix, eps):\n",
    "    if not check_symmetry(matrix):\n",
    "        return\n",
    "\n",
    "    a = np.copy(matrix)\n",
    "    rotation_matrices = []\n",
    "    iterations = 0\n",
    "    while True:\n",
    "        i, j = get_position_of_max_non_diagonal_element(a)\n",
    "        max_element = a[i, j]\n",
    "        phi = 1/2 * np.arctan(2*max_element / (a[i, i] - a[j, j]))\n",
    "        rotation_matrix = build_rotation_matrix((i, j), shape[0], phi)\n",
    "        a_k = np.matmul(np.matmul(rotation_matrix.T, a), rotation_matrix)\n",
    "        if is_accuracy_achieved(a_k, eps):\n",
    "            return np.diagonal(a_k), get_eigenvectors(rotation_matrices), iterations\n",
    "        else:\n",
    "            a = a_k\n",
    "            rotation_matrices.append(rotation_matrix)\n",
    "            iterations += 1\n",
    "\n",
    "def check_symmetry(matrix):\n",
    "    return np.allclose(matrix, matrix.T)\n",
    "\n",
    "\n",
    "def get_position_of_max_non_diagonal_element(matrix):\n",
    "    matrix_for_subtract = np.identity(shape[0]) * np.diagonal(matrix)\n",
    "    matrix = np.abs(matrix - matrix_for_subtract)\n",
    "    element =  np.max(matrix)\n",
    "    indexes =  np.where(matrix == element)\n",
    "    return indexes[0][0], indexes[1][0]\n",
    "\n",
    "def build_rotation_matrix(position_of_max_element, size, phi):\n",
    "    rotation_matrix = np.identity(size)\n",
    "    i, j = position_of_max_element\n",
    "    rotation_matrix[i, j] = -np.sin(phi)\n",
    "    rotation_matrix[j, i] = np.sin(phi)\n",
    "    rotation_matrix[i, i] = rotation_matrix[j, j] = np.cos(phi)\n",
    "    return rotation_matrix\n",
    "\n",
    "def is_accuracy_achieved(matrix, eps):\n",
    "    matrix_for_subtract = np.identity(shape[0]) * np.diagonal(matrix)\n",
    "    matrix = np.power(matrix - matrix_for_subtract, 2)\n",
    "    sum_of_elements = np.power(np.sum(matrix) / 2, 0.5)\n",
    "    return sum_of_elements < eps\n",
    "\n",
    "def get_eigenvectors(rotation_matrices):\n",
    "    result = rotation_matrices[0]\n",
    "    if len(rotation_matrices) > 1:\n",
    "        for i in range(1, len(rotation_matrices)):\n",
    "            result = np.matmul(result, rotation_matrices[i])\n",
    "\n",
    "    return result"
   ],
   "metadata": {
    "collapsed": false
   }
  },
  {
   "cell_type": "code",
   "execution_count": 16,
   "outputs": [
    {
     "name": "stdout",
     "output_type": "stream",
     "text": [
      "iterations\n",
      "6\n",
      "eigenvalues\n",
      "[3.73  1.921 9.348]\n",
      "eigenvectors\n",
      "[ 0.776  0.195 -0.6  ],\n",
      "[-0.515  0.746 -0.423],\n",
      "[0.365 0.637 0.679],\n"
     ]
    }
   ],
   "source": [
    "eigenvalues, eigenvectors, iterations = solve_rotations(matrix_array, 0.00001)\n",
    "print(\"iterations\")\n",
    "print(iterations)\n",
    "print(\"eigenvalues\")\n",
    "print(eigenvalues)\n",
    "print(\"eigenvectors\")\n",
    "for vector in eigenvectors.T:\n",
    "    print(vector, end=\",\\n\")"
   ],
   "metadata": {
    "collapsed": false
   }
  },
  {
   "cell_type": "markdown",
   "source": [
    "## QR-разложение"
   ],
   "metadata": {
    "collapsed": false
   }
  },
  {
   "cell_type": "code",
   "execution_count": 17,
   "outputs": [
    {
     "name": "stdout",
     "output_type": "stream",
     "text": [
      "[[ 5. -1. -2.]\n",
      " [-4.  3. -3.]\n",
      " [-2. -1.  1.]]\n"
     ]
    }
   ],
   "source": [
    "matrix_array = np.loadtxt('matrix_qr')\n",
    "print(matrix_array)\n",
    "shape = matrix_array.shape"
   ],
   "metadata": {
    "collapsed": false
   }
  },
  {
   "cell_type": "code",
   "execution_count": 18,
   "outputs": [],
   "source": [
    "def solve_qr(matrix, eps):\n",
    "    a = matrix\n",
    "    iterations = 0\n",
    "    pQ = np.eye(matrix.shape[0])\n",
    "    while True:\n",
    "        iterations += 1\n",
    "        h_matrices = []\n",
    "        r = a\n",
    "        for column in range(shape[1] - 1):\n",
    "            v = get_v_vector(r, column)\n",
    "            h = get_householder_matrix(v)\n",
    "            h_matrices.append(h)\n",
    "            r = np.matmul(h, r)\n",
    "\n",
    "        q = multiply_matrices(h_matrices)\n",
    "        a = np.matmul(r, q)\n",
    "        pQ = np.matmul(pQ, q)\n",
    "        if is_accuracy_achieved(a, eps):\n",
    "            print(\"iterations:\")\n",
    "            print(iterations)\n",
    "            return np.diagonal(a), pQ\n",
    "\n",
    "def get_v_vector(matrix, column):\n",
    "    v = np.zeros(shape[0])\n",
    "    v[column] =  matrix[column, column] + np.sign(matrix[column, column]) * np.sqrt(np.sum(np.power(matrix[column:, column], 2)))\n",
    "    v[column + 1:] = matrix[column + 1:, column]\n",
    "    return np.atleast_2d(v).T\n",
    "\n",
    "def get_householder_matrix(v):\n",
    "    e = np.identity(v.shape[0])\n",
    "    return e - 2 * np.matmul(v, v.T)/np.matmul(v.T, v)\n",
    "\n",
    "def multiply_matrices(matrices):\n",
    "    result = matrices[0]\n",
    "    if len(matrices) > 1:\n",
    "        for i in range(1, len(matrices)):\n",
    "            result = np.matmul(result, matrices[i])\n",
    "\n",
    "    return result\n",
    "\n",
    "def multiply_reversed(matrices):\n",
    "    result = matrices[-1]\n",
    "    if len(matrices) > 1:\n",
    "        for i in reversed(range(0, len(matrices) - 1)):\n",
    "            result = np.matmul(result, matrices[i])\n",
    "\n",
    "    return result\n",
    "\n",
    "def is_accuracy_achieved(matrix, eps):\n",
    "    sum_of_subdiagonal_elements = 0\n",
    "    for i in range(1, shape[0]):\n",
    "        sum_of_subdiagonal_elements += np.sum(np.power(np.diagonal(matrix, -i), 2))\n",
    "    return np.sqrt(sum_of_subdiagonal_elements) < eps"
   ],
   "metadata": {
    "collapsed": false
   }
  },
  {
   "cell_type": "code",
   "execution_count": 19,
   "outputs": [
    {
     "name": "stdout",
     "output_type": "stream",
     "text": [
      "eigenvalues\n",
      "iterations:\n",
      "23\n",
      "[ 6.384  3.839 -1.224]\n",
      "[-0.694  0.709  0.126],\n",
      "[-0.55  -0.636  0.542],\n",
      "[0.464 0.307 0.831],\n"
     ]
    }
   ],
   "source": [
    "print(\"eigenvalues\")\n",
    "values, vectors = solve_qr(matrix_array, 0.00001)\n",
    "print(values)\n",
    "for vector in vectors.T:\n",
    "    print(vector, end=\",\\n\")"
   ],
   "metadata": {
    "collapsed": false
   }
  }
 ],
 "metadata": {
  "kernelspec": {
   "display_name": "Python 3 (ipykernel)",
   "language": "python",
   "name": "python3"
  },
  "language_info": {
   "codemirror_mode": {
    "name": "ipython",
    "version": 3
   },
   "file_extension": ".py",
   "mimetype": "text/x-python",
   "name": "python",
   "nbconvert_exporter": "python",
   "pygments_lexer": "ipython3",
   "version": "3.10.10"
  }
 },
 "nbformat": 4,
 "nbformat_minor": 5
}
